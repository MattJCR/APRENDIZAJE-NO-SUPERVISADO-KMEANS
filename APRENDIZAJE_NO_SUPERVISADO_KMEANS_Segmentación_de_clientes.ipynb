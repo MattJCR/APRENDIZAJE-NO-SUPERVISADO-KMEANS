{
  "nbformat": 4,
  "nbformat_minor": 0,
  "metadata": {
    "colab": {
      "provenance": [],
      "authorship_tag": "ABX9TyP81fkvklPsP8InEzlZ/G2Q",
      "include_colab_link": true
    },
    "kernelspec": {
      "name": "python3",
      "display_name": "Python 3"
    },
    "language_info": {
      "name": "python"
    }
  },
  "cells": [
    {
      "cell_type": "markdown",
      "metadata": {
        "id": "view-in-github",
        "colab_type": "text"
      },
      "source": [
        "<a href=\"https://colab.research.google.com/github/MattJCR/APRENDIZAJE-NO-SUPERVISADO-KMEANS/blob/master/APRENDIZAJE_NO_SUPERVISADO_KMEANS_Segmentaci%C3%B3n_de_clientes.ipynb\" target=\"_parent\"><img src=\"https://colab.research.google.com/assets/colab-badge.svg\" alt=\"Open In Colab\"/></a>"
      ]
    },
    {
      "cell_type": "markdown",
      "source": [
        "# Descripción de la tarea \n",
        "\n",
        "Realizar estudios exploratorios de los datos usando análisis cluster y empleando el algoritmo de Kmeans o K-medias. Para ello habrá que: \n",
        "* Preprocesar los datos. En esta etapa se seleccionarán las variables que sean relevantes, detectará los outliers y observaciones relevantes. \n",
        "* Análisis cluster. Se determinará cuántos grupos significativos se pueden encontrar en los datos y se calcularán. \n",
        "* Realizar una descripción semántica de los patrones encontrados. analizando la importancia de cada grupo y analizando la importancia de las variables en su definición, para ello hay que realizar una descripción estadística de los grupos encontrados. \n",
        "\n",
        "## Segmentación de clientes \n",
        "https://www.kaggle.com/vjchoudhary7/customer-segmentation-tutorial-in-python\n",
        "* En el dataset se encuentran datos relativos a clientes de un centro comercial (género, edad, ingresos anuales, puntuación de gasto (asignada por el centro comercial)) \n",
        "* El objetivo es categorizar los clientes"
      ],
      "metadata": {
        "id": "u_GaSU77KT83"
      }
    },
    {
      "cell_type": "code",
      "execution_count": null,
      "metadata": {
        "id": "TcS97N9wKLKK"
      },
      "outputs": [],
      "source": []
    }
  ]
}